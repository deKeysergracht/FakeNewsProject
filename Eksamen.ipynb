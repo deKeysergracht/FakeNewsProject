{
 "cells": [
  {
   "cell_type": "markdown",
   "metadata": {},
   "source": [
    "In the first part of the project, you should work on retrieving, structuring, and cleaning data. Document your work in a jupyter notebook and in the final project report.\n",
    "\n",
    "You will be using a subset of the FakeNewsCorpus dataset in your project, which is available from Absalon. You can also find more information about the full datasetLinks to an external site. and find information about how the data is collected, the available fields, etc.\n",
    "\n",
    "Task 1: Your first task is to retrieve a sample of the FakeNewsCorpus from https://raw.githubusercontent.com/several27/FakeNewsCorpus/master/news_sample.csvLinks to an external site. and structure, process, clean it. You should follow the methodology you developed in Exercise 1. When you have finished cleaning, you can start to process the text. NLTK (https://www.nltk.org/ Links to an external site.) has built-in support for many common operations. Try the following:\n",
    "\n",
    "Tokenize the text.\n",
    "Remove stopwords and compute the size of the vocabulary. Compute the reduction rate of the vocabulary size after removing stopwords.\n",
    "Remove word variations with stemming and compute the size of the vocabulary. Compute the reduction rate of the vocabulary size after stemming.\n",
    "Describe which procedures (and which libraries) you used and why they are appropriate."
   ]
  },
  {
   "cell_type": "code",
   "execution_count": 41,
   "metadata": {},
   "outputs": [
    {
     "name": "stderr",
     "output_type": "stream",
     "text": [
      "[nltk_data] Downloading package stopwords to\n",
      "[nltk_data]     /Users/adamjohn/nltk_data...\n",
      "[nltk_data]   Package stopwords is already up-to-date!\n"
     ]
    },
    {
     "data": {
      "text/plain": [
       "True"
      ]
     },
     "execution_count": 41,
     "metadata": {},
     "output_type": "execute_result"
    }
   ],
   "source": [
    "import pandas as pd\n",
    "import matplotlib.pyplot as plt\n",
    "import re\n",
    "from collections import Counter\n",
    "from cleantext import clean\n",
    "import re as regular_expression\n",
    "import nltk\n",
    "from nltk.corpus import stopwords\n",
    "from nltk.tokenize import word_tokenize\n",
    "nltk.download('stopwords')"
   ]
  },
  {
   "cell_type": "markdown",
   "metadata": {},
   "source": [
    "Task 1, part 1: Her åbner vi datafilen, som vi skal strukturere, behandle og cleane. "
   ]
  },
  {
   "cell_type": "code",
   "execution_count": null,
   "metadata": {},
   "outputs": [],
   "source": []
  },
  {
   "cell_type": "code",
   "execution_count": 42,
   "metadata": {},
   "outputs": [
    {
     "name": "stdout",
     "output_type": "stream",
     "text": [
      "   original_vocab_size  reduced_vocab_size_no_stopwords  \\\n",
      "0                  223                              169   \n",
      "1                  122                               92   \n",
      "2                  272                              234   \n",
      "3                  255                              196   \n",
      "4                  169                              122   \n",
      "\n",
      "   reduction_rate_no_stopwords  reduced_vocab_size_stemming  \\\n",
      "0                     0.242152                          162   \n",
      "1                     0.245902                           91   \n",
      "2                     0.139706                          226   \n",
      "3                     0.231373                          184   \n",
      "4                     0.278107                          118   \n",
      "\n",
      "   reduction_rate_stemming  \n",
      "0                 0.273543  \n",
      "1                 0.254098  \n",
      "2                 0.169118  \n",
      "3                 0.278431  \n",
      "4                 0.301775  \n",
      "Average reduction rate after removing stopwords: 21.77%\n",
      "Average reduction rate after stemming: 26.49%\n",
      "First 10 original tokens of the first article:\n",
      "['sometimes', 'the', 'power', 'of', 'christmas', 'will', 'make', 'you', 'do', 'wild', 'and', 'wonderful', 'things', '.', 'you', 'do', 'not', 'need', 'to', 'believe', 'in', 'the', 'holy', 'trinity', 'to', 'believe', 'in', 'the', 'positive', 'power', 'of', 'doing', 'good', 'for', 'others', '.', 'the', 'simple', 'act', 'of', 'giving', 'without', 'receiving', 'is', 'lost', 'on', 'many', 'of', 'us', 'these', 'days', ',', 'as', 'worries', 'about', 'money', 'and', 'success', 'hold', 'us', 'back', 'from', 'giving', 'to', 'others', 'who', 'are', 'in', 'need', '.', 'one', 'congregation', 'in', 'ohio', 'was', 'moved', 'to', 'action', 'by', 'the', 'power', 'of', 'a', 'sermon', 'given', 'at', 'their', 'church', 'on', 'christmas', 'eve', '.', 'the', 'pastor', 'at', 'grand', 'lake', 'united', 'methodist', 'church']\n",
      "\n",
      "First 10 tokens of the first article after removing stopwords:\n",
      "['sometimes', 'power', 'christmas', 'make', 'wild', 'wonderful', 'things', '.', 'need', 'believe', 'holy', 'trinity', 'believe', 'positive', 'power', 'good', 'others', '.', 'simple', 'act', 'giving', 'without', 'receiving', 'lost', 'many', 'us', 'days', ',', 'worries', 'money', 'success', 'hold', 'us', 'back', 'giving', 'others', 'need', '.', 'one', 'congregation', 'ohio', 'moved', 'action', 'power', 'sermon', 'given', 'church', 'christmas', 'eve', '.', 'pastor', 'grand', 'lake', 'united', 'methodist', 'church', 'celina', ',', 'ohio', 'gave', 'emotional', 'sermon', 'importance', 'understanding', 'message', 'jesus', '.', 'many', 'religious', 'people', 'message', 'jesus', 'help', 'others', ',', 'make', 'sure', 'people', 'suffering', 'get', 'help', 'need', 'enjoy', 'life', 'little', 'bit', '.', 'sermon', 'really', 'generosity', 'look', 'like', 'lives', '.', 'jesus', 'lived', 'long', 'time', 'ago', 'acted']\n",
      "\n",
      "First 10 tokens of the first article after stemming:\n",
      "['sometim', 'power', 'christma', 'make', 'wild', 'wonder', 'thing', '.', 'need', 'believ', 'holi', 'triniti', 'believ', 'posit', 'power', 'good', 'other', '.', 'simpl', 'act', 'give', 'without', 'receiv', 'lost', 'mani', 'us', 'day', ',', 'worri', 'money', 'success', 'hold', 'us', 'back', 'give', 'other', 'need', '.', 'one', 'congreg', 'ohio', 'move', 'action', 'power', 'sermon', 'given', 'church', 'christma', 'eve', '.', 'pastor', 'grand', 'lake', 'unit', 'methodist', 'church', 'celina', ',', 'ohio', 'gave', 'emot', 'sermon', 'import', 'understand', 'messag', 'jesu', '.', 'mani', 'religi', 'peopl', 'messag', 'jesu', 'help', 'other', ',', 'make', 'sure', 'peopl', 'suffer', 'get', 'help', 'need', 'enjoy', 'life', 'littl', 'bit', '.', 'sermon', 'realli', 'generos', 'look', 'like', 'live', '.', 'jesu', 'live', 'long', 'time', 'ago', 'act']\n"
     ]
    },
    {
     "data": {
      "image/png": "[encoded data removed]",
      "text/plain": [
       "<Figure size 200x200 with 1 Axes>"
      ]
     },
     "metadata": {},
     "output_type": "display_data"
    }
   ],
   "source": [
    "# Your cleaning function\n",
    "def apply_clean(text):\n",
    "    return clean(text, fix_unicode=False, to_ascii=False, lower=True, no_line_breaks=True,\n",
    "                 no_urls=True, no_emails=True, no_phone_numbers=True, no_numbers=True, no_digits=True,\n",
    "                 replace_with_url=\"<URL>\", replace_with_email=\"<EMAIL>\", replace_with_phone_number=\"<PHONE>\",\n",
    "                 replace_with_number=\"<NUMBER>\", replace_with_digit=\"0\", lang=\"en\")\n",
    "\n",
    "def remove_stopwords(token_list):\n",
    "    stop_words = set(stopwords.words('english'))\n",
    "    return [word for word in token_list if word not in stop_words]\n",
    "\n",
    "def vocabulary_size(token_list):\n",
    "    return len(set(token_list))\n",
    "\n",
    "def compute_reduction_rate(original_size, reduced_size):\n",
    "    reduction = (original_size - reduced_size) / original_size\n",
    "    return reduction\n",
    "\n",
    "def apply_stemming(token_list):\n",
    "    stemmer = PorterStemmer()\n",
    "    return [stemmer.stem(word) for word in token_list]\n",
    "\n",
    "# Load the dataset\n",
    "df = pd.read_csv('news_sample.csv')\n",
    "\n",
    "df['tokens'] = df['content'].apply(lambda x: word_tokenize(apply_clean(str(x))))\n",
    "\n",
    "stop_words = set(stopwords.words('english'))\n",
    "\n",
    "def remove_stopwords(token_list):\n",
    "    return [word for word in token_list if word not in stop_words]\n",
    "\n",
    "df['tokens_no_stopwords'] = df['tokens'].apply(remove_stopwords)\n",
    "\n",
    "def vocabulary_size(token_list):\n",
    "    return len(set(token_list))\n",
    "\n",
    "df['original_vocab_size'] = df['tokens'].apply(vocabulary_size)\n",
    "df['reduced_vocab_size_no_stopwords'] = df['tokens_no_stopwords'].apply(vocabulary_size)\n",
    "\n",
    "df['reduction_rate_no_stopwords'] = (df['original_vocab_size'] - df['reduced_vocab_size_no_stopwords']) / df['original_vocab_size']\n",
    "\n",
    "stemmer = PorterStemmer()\n",
    "\n",
    "def apply_stemming(token_list):\n",
    "    return [stemmer.stem(word) for word in token_list]\n",
    "\n",
    "df['stemmed_tokens'] = df['tokens_no_stopwords'].apply(apply_stemming)\n",
    "df['reduced_vocab_size_stemming'] = df['stemmed_tokens'].apply(vocabulary_size)\n",
    "\n",
    "df['reduction_rate_stemming'] = (df['original_vocab_size'] - df['reduced_vocab_size_stemming']) / df['original_vocab_size']\n",
    "\n",
    "# Print the first few rows of the DataFrame to check the results\n",
    "print(df[['original_vocab_size', 'reduced_vocab_size_no_stopwords', 'reduction_rate_no_stopwords', \n",
    "          'reduced_vocab_size_stemming', 'reduction_rate_stemming']].head())\n",
    "\n",
    "# Print average reduction rates across all articles\n",
    "average_reduction_rate_no_stopwords = df['reduction_rate_no_stopwords'].mean()\n",
    "average_reduction_rate_stemming = df['reduction_rate_stemming'].mean()\n",
    "\n",
    "print(f\"Average reduction rate after removing stopwords: {average_reduction_rate_no_stopwords:.2%}\")\n",
    "print(f\"Average reduction rate after stemming: {average_reduction_rate_stemming:.2%}\")\n",
    "\n",
    "# Example: Print the first 10 tokens of the first article\n",
    "print(\"First 10 original tokens of the first article:\")\n",
    "print(df.loc[0, 'tokens'][:100])\n",
    "\n",
    "# Print the first 10 tokens after removing stopwords\n",
    "print(\"\\nFirst 10 tokens of the first article after removing stopwords:\")\n",
    "print(df.loc[0, 'tokens_no_stopwords'][:100])\n",
    "\n",
    "# Print the first 10 tokens after stemming\n",
    "print(\"\\nFirst 10 tokens of the first article after stemming:\")\n",
    "print(df.loc[0, 'stemmed_tokens'][:100])\n",
    "\n",
    "# Plotting the average reduction rates\n",
    "reduction_rates = [average_reduction_rate_no_stopwords, average_reduction_rate_stemming]\n",
    "steps = ['After Removing Stopwords', 'After Stemming']\n",
    "\n",
    "plt.figure(figsize=(2, 2))\n",
    "plt.bar(steps, reduction_rates, color=['blue', 'green'])\n",
    "plt.ylabel('Average Reduction Rate')\n",
    "plt.title('Average Reduction Rate by Preprocessing Step')\n",
    "plt.show()\n"
   ]
  },
  {
   "cell_type": "markdown",
   "metadata": {},
   "source": [
    "Processing:"
   ]
  },
  {
   "cell_type": "code",
   "execution_count": null,
   "metadata": {},
   "outputs": [],
   "source": []
  },
  {
   "cell_type": "code",
   "execution_count": null,
   "metadata": {},
   "outputs": [],
   "source": []
  }
 ],
 "metadata": {
  "kernelspec": {
   "display_name": "base",
   "language": "python",
   "name": "python3"
  },
  "language_info": {
   "codemirror_mode": {
    "name": "ipython",
    "version": 3
   },
   "file_extension": ".py",
   "mimetype": "text/x-python",
   "name": "python",
   "nbconvert_exporter": "python",
   "pygments_lexer": "ipython3",
   "version": "3.11.5"
  },
  "orig_nbformat": 4
 },
 "nbformat": 4,
 "nbformat_minor": 2
}
