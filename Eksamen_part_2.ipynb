{
 "cells": [
  {
   "cell_type": "code",
   "execution_count": 9,
   "metadata": {},
   "outputs": [],
   "source": [
    "import pandas as pd\n"
   ]
  },
  {
   "cell_type": "markdown",
   "metadata": {},
   "source": [
    "I part 2 starter vi ud med at indlæse vores 'train_set.csv', 'validation_set.csv' og 'test_set.csv'"
   ]
  },
  {
   "cell_type": "code",
   "execution_count": 10,
   "metadata": {},
   "outputs": [],
   "source": [
    "train_data = pd.read_csv('train_set.csv')\n",
    "val_data = pd.read_csv('validation_set.csv')\n",
    "test_data = pd.read_csv('test_set.csv')"
   ]
  },
  {
   "cell_type": "code",
   "execution_count": 19,
   "metadata": {},
   "outputs": [
    {
     "name": "stdout",
     "output_type": "stream",
     "text": [
      "Validation accuracy: 0.8614271356783919\n",
      "LogisticRegression MSE: 0.0957239303443731\n"
     ]
    }
   ],
   "source": [
    "from sklearn.feature_extraction.text import TfidfVectorizer\n",
    "from sklearn.naive_bayes import MultinomialNB\n",
    "from sklearn.pipeline import Pipeline\n",
    "from sklearn.metrics import accuracy_score\n",
    "\n",
    "# Indlæs træningsdata\n",
    "train_data = pd.read_csv('train_set.csv')\n",
    "\n",
    "# Erstat NaN-værdier i 'stemmed_content' med en tom streng\n",
    "train_data['stemmed_content'].fillna('', inplace=True)\n",
    "\n",
    "# Definer dine kategorier\n",
    "reliable_categories = ['reliable', 'political']\n",
    "fake_categories = ['fake', 'bias', 'conspiracy', 'hate', 'junksci', 'rumor', 'unreliable', 'satire']\n",
    "\n",
    "# Opret en funktion, der omdanner 'type' til binære værdier\n",
    "def map_to_binary(article_type):\n",
    "    if article_type in reliable_categories:\n",
    "        return 1  # 'reliable'\n",
    "    elif article_type in fake_categories:\n",
    "        return 0  # 'fake'# Sikrer, at funktionen returnerer 0 for alle andre tilfælde, hvilket eliminerer risikoen for NaN-værdier\n",
    "    return 0  \n",
    "\n",
    "# Anvend denne funktion på dit datasæt for at oprette en binær label\n",
    "y_train = train_data['type'].apply(map_to_binary)\n",
    "\n",
    "# Nu er 'y_train' klar uden risiko for NaN-værdier\n",
    "X_train = train_data['stemmed_content']  # 'X_train' er også klar til brug\n",
    "\n",
    "# Opret en pipeline med TF-IDF og Naive Bayes\n",
    "pipeline = Pipeline([\n",
    "    ('tfidf', TfidfVectorizer()),\n",
    "    ('classifier', MultinomialNB())\n",
    "])\n",
    "\n",
    "# Træn modellen på træningsdata\n",
    "pipeline.fit(X_train, y_train)\n",
    "\n",
    "# Her er den del hvor vi indlæser valideringsdata og forudsiger\n",
    "# Antager at du har en 'val_set.csv' som valideringsdatasæt\n",
    "val_data = pd.read_csv('validation_set.csv')\n",
    "val_data['stemmed_content'].fillna('', inplace=True)\n",
    "X_val = val_data['stemmed_content']\n",
    "y_val = val_data['type'].apply(map_to_binary)\n",
    "\n",
    "# Brug pipelinen til at forudsige på valideringsdata\n",
    "y_pred = pipeline.predict(X_val)\n",
    "\n",
    "# Beregn og udskriv præcision for valideringsdata\n",
    "val_accuracy = accuracy_score(y_val, y_pred)\n",
    "print(f\"Validation accuracy: {val_accuracy}\")"
   ]
  },
  {
   "cell_type": "markdown",
   "metadata": {},
   "source": [
    "Iforhold til meta data overvejede vi domain men i og med vi tidlgiere fandt at hver domain kun udgiver 1 type artikel mener vi at det vil \"overfitte\" vores model, hvor vores model bare genkender domain istedet for at forudsige. "
   ]
  },
  {
   "cell_type": "markdown",
   "metadata": {},
   "source": [
    "skriv i rapporten omat vi har prøvet at bruge meta feature data som domain og author hvor vi feks så overfitting med domain f.eks. pog noget andet at skrive om..."
   ]
  },
  {
   "cell_type": "code",
   "execution_count": 20,
   "metadata": {},
   "outputs": [
    {
     "name": "stdout",
     "output_type": "stream",
     "text": [
      "Validation accuracy: 0.8987537688442211\n"
     ]
    }
   ],
   "source": [
    "from sklearn.feature_extraction.text import TfidfVectorizer\n",
    "from sklearn.naive_bayes import MultinomialNB\n",
    "from sklearn.pipeline import Pipeline, make_pipeline\n",
    "from sklearn.compose import ColumnTransformer\n",
    "from sklearn.preprocessing import OneHotEncoder\n",
    "from sklearn.metrics import accuracy_score\n",
    "import pandas as pd\n",
    "\n",
    "# Antager at train_data og val_data allerede er indlæst\n",
    "\n",
    "# Forberedelse af data (Erstat NaN-værdier og anvend map_to_binary funktionen)\n",
    "train_data['stemmed_content'].fillna('', inplace=True)\n",
    "train_data['authors'].fillna('', inplace=True)\n",
    "val_data['stemmed_content'].fillna('', inplace=True)\n",
    "val_data['authors'].fillna('', inplace=True)\n",
    "\n",
    "y_train = train_data['type'].apply(map_to_binary)\n",
    "y_val = val_data['type'].apply(map_to_binary)\n",
    "\n",
    "# Forbered X_train og X_val som dictionaries til ColumnTransformer\n",
    "X_train = train_data[['stemmed_content', 'authors']]\n",
    "X_val = val_data[['stemmed_content', 'authors']]\n",
    "\n",
    "# Opret en ColumnTransformer til at forarbejde de forskellige kolonner\n",
    "preprocessor = ColumnTransformer(\n",
    "    transformers=[\n",
    "        ('text', TfidfVectorizer(), 'stemmed_content'),\n",
    "        ('authors', OneHotEncoder(handle_unknown='ignore'), ['authors'])\n",
    "    ]\n",
    ")\n",
    "\n",
    "# Opret en pipeline med preprocessor og Naive Bayes\n",
    "pipeline = Pipeline([\n",
    "    ('preprocessor', preprocessor),\n",
    "    ('classifier', MultinomialNB())\n",
    "])\n",
    "\n",
    "# Træn modellen på træningsdata\n",
    "pipeline.fit(X_train, y_train)\n",
    "\n",
    "# Forudsige på valideringsdata\n",
    "y_pred = pipeline.predict(X_val)\n",
    "\n",
    "# Beregn og udskriv præcision for valideringsdata\n",
    "val_accuracy = accuracy_score(y_val, y_pred)\n",
    "print(f\"Validation accuracy: {val_accuracy}\")\n"
   ]
  },
  {
   "cell_type": "markdown",
   "metadata": {},
   "source": [
    "Part 3\n"
   ]
  },
  {
   "cell_type": "code",
   "execution_count": null,
   "metadata": {},
   "outputs": [],
   "source": [
    "from sklearn.feature_extraction.text import TfidfVectorizer\n",
    "from sklearn.linear_model import LogisticRegression\n",
    "from sklearn.pipeline import Pipeline\n",
    "from sklearn.metrics import accuracy_score\n",
    "from sklearn.metrics import mean_squared_error\n",
    "from sklearn.metrics import precision_score, recall_score, f1_score\n",
    "\n",
    "\n",
    "# Indlæs træningsdata\n",
    "\n",
    "# Erstat NaN-værdier i 'stemmed_content' med en tom streng\n",
    "train_data['stemmed_content'].fillna('', inplace=True)\n",
    "\n",
    "# Definer dine kategorier\n",
    "reliable_categories = ['reliable', 'political']\n",
    "fake_categories = ['fake', 'conspiracy', 'hate', 'junksci', 'rumor', 'unreliable', 'satire','bias']\n",
    "\n",
    "# Opret en funktion, der omdanner 'type' til binære værdier\n",
    "def map_to_binary(article_type):\n",
    "    if article_type in reliable_categories:\n",
    "        return 1  # 'reliable'\n",
    "    elif article_type in fake_categories:\n",
    "        return 0  # 'fake'\n",
    "    # Sikrer, at funktionen returnerer 0 for alle andre tilfælde, hvilket eliminerer risikoen for NaN-værdier\n",
    "    return 0  \n",
    "\n",
    "# Anvend denne funktion på dit datasæt for at oprette en binær label\n",
    "y_train = train_data['type'].apply(map_to_binary)\n",
    "\n",
    "# Nu er 'y_train' klar uden risiko for NaN-værdier\n",
    "X_train = train_data['stemmed_content']  # 'X_train' er også klar til brug\n",
    "\n",
    "# Opret en pipeline med TF-IDF og logistisk regression, øg antallet af iterationer\n",
    "pipeline = Pipeline([\n",
    "    ('tfidf', TfidfVectorizer()),\n",
    "    ('classifier', LogisticRegression(max_iter=10000))  \n",
    "])\n",
    "\n",
    "# Træn modellen på træningsdata\n",
    "pipeline.fit(X_train, y_train)\n",
    "\n",
    "# Her er den del hvor vi indlæser valideringsdata og forudsiger\n",
    "# Antager at du har en 'val_set.csv' som valideringsdatasæt\n",
    "val_data['stemmed_content'].fillna('', inplace=True)\n",
    "X_val = val_data['stemmed_content']\n",
    "y_val = val_data['type'].apply(map_to_binary)\n",
    "\n",
    "# Brug pipeline til at forudsige på valideringsdata\n",
    "y_pred = pipeline.predict(X_val)\n",
    "\n",
    "# Forudsagte sandsynligheder (hvis du har brug for dem til MSE beregning)\n",
    "y_pred_probs = pipeline.predict_proba(X_val)[:, 1]\n",
    "\n",
    "# Beregn og udskriv præcision for valideringsdata\n",
    "val_accuracy = accuracy_score(y_val, y_pred)\n",
    "print(f\"Validation accuracy: {val_accuracy}\")\n",
    "\n",
    "# Beregn MSE ved at sammenligne forudsagte sandsynligheder med de faktiske labels\n",
    "# Bemærk: Dette er ikke standard for klassificering og anvendes normalt i regression.\n",
    "mse_logistic = mean_squared_error(y_val, y_pred_probs)\n",
    "print(f\"LogisticRegression MSE: {mse_logistic}\")"
   ]
  },
  {
   "cell_type": "code",
   "execution_count": null,
   "metadata": {},
   "outputs": [],
   "source": [
    "from sklearn.metrics import precision_score, recall_score, f1_score\n",
    "\n",
    "# Beregn præcision, recall og F1-score\n",
    "precision = precision_score(y_val, y_pred)\n",
    "recall = recall_score(y_val, y_pred)\n",
    "f1 = f1_score(y_val, y_pred)\n",
    "\n",
    "print(f\"Precision: {precision:.4f}\")\n",
    "print(f\"Recall: {recall:.4f}\")\n",
    "print(f\"F1-Score: {f1:.4f}\")"
   ]
  },
  {
   "cell_type": "code",
   "execution_count": null,
   "metadata": {},
   "outputs": [],
   "source": [
    "from sklearn.feature_extraction.text import TfidfVectorizer\n",
    "from sklearn.linear_model import LogisticRegression\n",
    "from sklearn.pipeline import Pipeline\n",
    "from sklearn.compose import ColumnTransformer\n",
    "from sklearn.preprocessing import OneHotEncoder\n",
    "from sklearn.metrics import accuracy_score, mean_squared_error, precision_score, recall_score, f1_score\n",
    "import pandas as pd\n",
    "\n",
    "# Antager at train_data og val_data allerede er indlæst\n",
    "\n",
    "# Erstat NaN-værdier i 'stemmed_content' og 'domain' med en tom streng\n",
    "train_data['stemmed_content'].fillna('', inplace=True)\n",
    "train_data['authors'].fillna('', inplace=True)\n",
    "\n",
    "val_data['stemmed_content'].fillna('', inplace=True)\n",
    "val_data['authors'].fillna('', inplace=True)\n",
    "\n",
    "# Definer dine kategorier\n",
    "reliable_categories = ['reliable', 'political']\n",
    "fake_categories = ['fake', 'bias', 'conspiracy', 'hate', 'junksci', 'rumor', 'unreliable', 'satire']\n",
    "\n",
    "# Opret en funktion, der omdanner 'type' til binære værdier\n",
    "def map_to_binary(article_type):\n",
    "    return 1 if article_type in reliable_categories else 0\n",
    "\n",
    "# Anvend denne funktion på dit datasæt for at oprette en binær label\n",
    "y_train = train_data['type'].apply(map_to_binary)\n",
    "y_val = val_data['type'].apply(map_to_binary)\n",
    "\n",
    "# Forbered features\n",
    "X_train = train_data[['stemmed_content', 'authors']]\n",
    "X_val = val_data[['stemmed_content', 'authors']]\n",
    "\n",
    "# Opret en ColumnTransformer til at forarbejde de forskellige kolonner\n",
    "preprocessor = ColumnTransformer(\n",
    "    transformers=[\n",
    "        ('text', TfidfVectorizer(), 'stemmed_content'),\n",
    "        ('authors', OneHotEncoder(handle_unknown='ignore'), ['authors'])\n",
    "    ]\n",
    ")\n",
    "\n",
    "# Opret en pipeline med preprocessor og logistisk regression\n",
    "pipeline = Pipeline([\n",
    "    ('preprocessor', preprocessor),\n",
    "    ('classifier', LogisticRegression(max_iter=1000))\n",
    "])\n",
    "\n",
    "# Træn modellen på træningsdata\n",
    "pipeline.fit(X_train, y_train)\n",
    "\n",
    "# Forudsige på valideringsdata\n",
    "y_pred = pipeline.predict(X_val)\n",
    "\n",
    "# Beregn og udskriv præcision for valideringsdata\n",
    "val_accuracy = accuracy_score(y_val, y_pred)\n",
    "print(f\"Validation accuracy: {val_accuracy}\")\n",
    "\n",
    "# Beregn MSE ved at sammenligne forudsagte sandsynligheder med de faktiske labels\n",
    "y_pred_probs = pipeline.predict_proba(X_val)[:, 1]\n",
    "mse_logistic = mean_squared_error(y_val, y_pred_probs)\n",
    "print(f\"LogisticRegression MSE: {mse_logistic}\")"
   ]
  },
  {
   "cell_type": "markdown",
   "metadata": {},
   "source": [
    "Iforhold til meta data overvejede vi domain men i og med vi tidlgiere fandt at hver domain kun udgiver 1 type artikel mener vi at det vil \"overfitte\" vores model, hvor vores model bare genkender domain istedet for at forudsige. "
   ]
  }
 ],
 "metadata": {
  "kernelspec": {
   "display_name": "base",
   "language": "python",
   "name": "python3"
  },
  "language_info": {
   "codemirror_mode": {
    "name": "ipython",
    "version": 3
   },
   "file_extension": ".py",
   "mimetype": "text/x-python",
   "name": "python",
   "nbconvert_exporter": "python",
   "pygments_lexer": "ipython3",
   "version": "3.11.5"
  },
  "orig_nbformat": 4
 },
 "nbformat": 4,
 "nbformat_minor": 2
}
