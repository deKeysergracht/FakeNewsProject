{
 "cells": [
  {
   "cell_type": "code",
   "execution_count": 1,
   "metadata": {},
   "outputs": [],
   "source": [
    "import pandas as pd\n"
   ]
  },
  {
   "cell_type": "markdown",
   "metadata": {},
   "source": [
    "I part 2 starter vi ud med at indlæse vores 'train_set.csv', 'validation_set.csv' og 'test_set.csv'"
   ]
  },
  {
   "cell_type": "code",
   "execution_count": 2,
   "metadata": {},
   "outputs": [],
   "source": [
    "train_data = pd.read_csv('train_set.csv')\n",
    "val_data = pd.read_csv('validation_set.csv')\n",
    "test_data = pd.read_csv('test_set.csv')"
   ]
  },
  {
   "cell_type": "markdown",
   "metadata": {},
   "source": [
    "Vi vil nu konvertere 'type' kolonnen til en binær klassificering, hvor 1 er lig med alle de reliable news og 0 er lig med alle de fake news. "
   ]
  },
  {
   "cell_type": "code",
   "execution_count": 10,
   "metadata": {},
   "outputs": [],
   "source": [
    "import pandas as pd\n",
    "\n",
    "\n",
    "def convert_to_binary_classification(df):\n",
    "    # Konverterer 'type' kolonnen til binær klassifikation\n",
    "    df['type'] = df['type'].apply(lambda x: 1 if x in ['reliable', 'political'] else 0)\n",
    "    return df\n",
    "\n",
    "def replace_nan_with_empty_string(data):\n",
    "    # Erstatter NaN værdier med en tom streng i 'content' kolonnen\n",
    "    data['content'] = data['content'].fillna('')\n",
    "    return data\n",
    "\n",
    "def prepare_data(file_path):\n",
    "    # Indlæser datasættet og anvender de nødvendige forarbejdningsfunktioner\n",
    "    df = pd.read_csv(file_path)\n",
    "    df = convert_to_binary_classification(df)\n",
    "    df = replace_nan_with_empty_string(df)\n",
    "    return df\n",
    "\n",
    "# Forbered alle tre datasæt\n",
    "train_data = prepare_data('train_set.csv')\n",
    "val_data = prepare_data('validation_set.csv')\n",
    "test_data = prepare_data('test_set.csv')\n"
   ]
  },
  {
   "cell_type": "code",
   "execution_count": 11,
   "metadata": {},
   "outputs": [
    {
     "name": "stdout",
     "output_type": "stream",
     "text": [
      "Validation Accuracy: 0.8673\n"
     ]
    }
   ],
   "source": [
    "from sklearn.linear_model import LogisticRegression\n",
    "from sklearn.feature_extraction.text import TfidfVectorizer\n",
    "from sklearn.metrics import accuracy_score\n",
    "from sklearn.pipeline import make_pipeline\n",
    "\n",
    "pipeline = make_pipeline(\n",
    "    TfidfVectorizer(stop_words='english', max_features=10000),\n",
    "    LogisticRegression(max_iter=1000)\n",
    ")\n",
    "\n",
    "# Træn modellen på træningssættet\n",
    "pipeline.fit(train_data['content'], train_data['type'])\n",
    "\n",
    "# Forudsig på valideringsdatasættet\n",
    "val_predictions = pipeline.predict(val_data['content'])\n",
    "\n",
    "# Beregn og udskriv nøjagtigheden for valideringsdatasættet\n",
    "val_accuracy = accuracy_score(val_data['type'], val_predictions)\n",
    "print(f'Validation Accuracy: {val_accuracy:.4f}')"
   ]
  }
 ],
 "metadata": {
  "kernelspec": {
   "display_name": "base",
   "language": "python",
   "name": "python3"
  },
  "language_info": {
   "codemirror_mode": {
    "name": "ipython",
    "version": 3
   },
   "file_extension": ".py",
   "mimetype": "text/x-python",
   "name": "python",
   "nbconvert_exporter": "python",
   "pygments_lexer": "ipython3",
   "version": "3.11.5"
  },
  "orig_nbformat": 4
 },
 "nbformat": 4,
 "nbformat_minor": 2
}
